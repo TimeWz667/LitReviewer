{
 "cells": [
  {
   "cell_type": "code",
   "execution_count": 1,
   "metadata": {},
   "outputs": [
    {
     "name": "stdout",
     "output_type": "stream",
     "text": [
      "bibtex\t ['Context_dz', 'Abstract_animal', 'Hybrid modelling']\n",
      "form\t ['hybrid']\n",
      "project\t ['Hy', 'HybridModelling']\n"
     ]
    }
   ],
   "source": [
    "import reviewer\n",
    "\n",
    "print('bibtex\\t', [k for k, v in reviewer.list_bib()])\n",
    "print('form\\t', [k for k, v in reviewer.list_form()])\n",
    "print('project\\t', [k for k, v in reviewer.list_project()])"
   ]
  },
  {
   "cell_type": "markdown",
   "metadata": {},
   "source": [
    "path = 'data/Context_dz.bib'\n",
    "\n",
    "\n",
    "abbreviations = ['HIV', 'STD', 'NCD', 'SD', 'DES', 'ABM', 'EBM', 'BMC', 'I', 'II', 'OR', \n",
    "                 'IEEE', 'PLOS', 'WSC', 'JAIDS', 'RIVF', '(RIVF)', '(WSC)']\n",
    "\n",
    "pl = reviewer.paper_list_from_source('data/Context_dz.bib', 'data_form/hybrid.json', abbreviations)\n",
    "\n",
    "\n"
   ]
  },
  {
   "cell_type": "code",
   "execution_count": 2,
   "metadata": {},
   "outputs": [],
   "source": [
    "reviewer.login_reviewer('Me')\n",
    "\n",
    "reviewer.load_project('HybridModelling')\n",
    "\n",
    "reviewer.attach_project('Me','HybridModelling')\n",
    "\n",
    "reader = reviewer.Reviewers['Me']\n",
    "reader.select_all('Context In', [])\n",
    "ps = reader.get_selected_papers()\n",
    "pl = reviewer.PaperLists['HybridModelling']"
   ]
  },
  {
   "cell_type": "code",
   "execution_count": 4,
   "metadata": {},
   "outputs": [
    {
     "name": "stdout",
     "output_type": "stream",
     "text": [
      "What was the type of the study?\n",
      "                                  N     %\n",
      "Applying hybrid modelling         7  58.0\n",
      "Deriving hybrid modelling theory  2  17.0\n",
      "Discussion of hybrid modelling    2  17.0\n",
      "Exemplifying of hybrid modelling  1   8.0\n",
      "\n",
      "Was there a clear implementation detail of the model?\n",
      "     N     %\n",
      "Yes  9  75.0\n",
      "No   3  25.0\n",
      "\n",
      "Was there at least one simulation experiment of the model?\n",
      "     N     %\n",
      "Yes  8  67.0\n",
      "No   4  33.0\n",
      "\n",
      "What did the term describe the ABM?\n",
      "                           N     %\n",
      "Agent-Based Model          9  75.0\n",
      "Individual-Based Model     2  17.0\n",
      "Discrete-Event Simulation  1   8.0\n",
      "\n",
      "Was the ABM stochastic?\n",
      "      N     %\n",
      "Yes  10  83.0\n",
      "No    2  17.0\n",
      "\n",
      "Was the ABM populated with empirical data?\n",
      "      N     %\n",
      "No   11  92.0\n",
      "Yes   1   8.0\n",
      "\n",
      "Was the parameters of the ABM from empirical data?\n",
      "      N     %\n",
      "No   10  83.0\n",
      "Yes   2  17.0\n",
      "\n",
      "Was the ABM calibrated by empirical observation?\n",
      "      N     %\n",
      "No   10  83.0\n",
      "Yes   2  17.0\n",
      "\n",
      "What did the term describe the EBM?\n",
      "                         N     %\n",
      "* Differential Equation  6  50.0\n",
      "Compartmental Model      2  17.0\n",
      "System Dynamics          2  17.0\n",
      "Equation-Based Model     2  17.0\n",
      "\n",
      "Was the EBM stochastic?\n",
      "      N     %\n",
      "No   11  92.0\n",
      "Yes   1   8.0\n",
      "\n",
      "Was the EBM populated with empirical data?\n",
      "      N     %\n",
      "No   11  92.0\n",
      "Yes   1   8.0\n",
      "\n",
      "Was the parameters of the EBM from empirical data?\n",
      "      N     %\n",
      "No   10  83.0\n",
      "Yes   2  17.0\n",
      "\n",
      "Was the EBM calibrated by empirical observation?\n",
      "      N     %\n",
      "No   11  92.0\n",
      "Yes   1   8.0\n",
      "\n",
      "Did the ABM and the EBM include same entities?\n",
      "     N     %\n",
      "No   8  67.0\n",
      "Yes  4  33.0\n",
      "\n",
      "What is the relation of the ABM and the EBM?\n",
      "                           N     %\n",
      "EBMs as sub-models of ABM  5  42.0\n",
      "Interactive: ABM <-> EBM   2  17.0\n",
      "ABMs as sub-models of EBM  1   8.0\n",
      "Sequential: EBM -> ABM     1   8.0\n",
      "Sequential: ABM -> EBM     1   8.0\n",
      "Sequential: Many times     1   8.0\n",
      "                           1   8.0\n",
      "\n",
      "What is the frequency of interactions of the ABM and the EBM?\n",
      "                             N     %\n",
      "More than one, continuously  5  42.0\n",
      "                             3  25.0\n",
      "Once                         2  17.0\n",
      "More than one, time step     1   8.0\n",
      "One, time step               1   8.0\n",
      "\n"
     ]
    }
   ],
   "source": [
    "import pandas as pd\n",
    "import wtforms.fields as fld\n",
    "from collections import OrderedDict\n",
    "\n",
    "tables = OrderedDict()\n",
    "fs = pl.Forms.Fields\n",
    "\n",
    "for k, v in fs.items():\n",
    "    if v.field_class is fld.SelectField:\n",
    "        cho = dict(v.kwargs['choices'])\n",
    "        dat = pd.Series([cho[int(p[k])] for p in ps])\n",
    "        cnt = pd.value_counts(dat)\n",
    "        \n",
    "    elif v.field_class is fld.BooleanField:\n",
    "        dat = pd.Series(['Yes' if k in p.Attributes and p[k] == 'y' else 'No' for p in ps])\n",
    "        cnt = pd.value_counts(dat)\n",
    "    else:\n",
    "        continue\n",
    "        \n",
    "        \n",
    "    tab = pd.DataFrame()\n",
    "    tab['N'] = cnt\n",
    "    tab['%'] = round(cnt/cnt.sum() * 100)\n",
    "    print(v.args[0])\n",
    "    print(tab)\n",
    "    print()\n",
    "        "
   ]
  },
  {
   "cell_type": "code",
   "execution_count": 5,
   "metadata": {},
   "outputs": [
    {
     "data": {
      "image/png": "[encoded data removed]",
      "text/plain": [
       "<Figure size 432x288 with 1 Axes>"
      ]
     },
     "metadata": {},
     "output_type": "display_data"
    }
   ],
   "source": [
    "import matplotlib.pyplot as plt\n",
    "from collections import Counter\n",
    "\n",
    "arr = range(2000, 2018)\n",
    "years = Counter([p.Year for p in ps])\n",
    "years = [years[yr] for yr in arr]\n",
    "\n",
    "plt.bar(arr, years)\n",
    "plt.xticks(arr, range(0, 18))\n",
    "\n",
    "plt.show()"
   ]
  },
  {
   "cell_type": "code",
   "execution_count": 11,
   "metadata": {},
   "outputs": [
    {
     "data": {
      "text/plain": [
       "['Chick2000',\n",
       " 'DAgata2007',\n",
       " 'Djanatliev2012',\n",
       " 'Fallah-Fini2013',\n",
       " 'Ferguson2000',\n",
       " 'Gosce2014',\n",
       " 'Kamp2010',\n",
       " 'Kasereka2014']"
      ]
     },
     "execution_count": 11,
     "metadata": {},
     "output_type": "execute_result"
    }
   ],
   "source": [
    "x.select('Abstract In', [])\n",
    "x.Selected"
   ]
  },
  {
   "cell_type": "code",
   "execution_count": 12,
   "metadata": {},
   "outputs": [
    {
     "data": {
      "text/plain": [
       "['Alam2013',\n",
       " 'Banos2015',\n",
       " 'Bobashev2007',\n",
       " 'Caudill2013',\n",
       " 'Chen2000',\n",
       " 'Chick2000',\n",
       " 'DAgata2007',\n",
       " 'Djanatliev2012',\n",
       " 'Fallah-Fini2013',\n",
       " 'Ferguson2000',\n",
       " 'Gosce2014',\n",
       " 'Kamp2010',\n",
       " 'Kasereka2014',\n",
       " 'Laperriere2016',\n",
       " 'Leamy2009',\n",
       " 'Lee2015',\n",
       " 'Lukens2014',\n",
       " 'Manore2015',\n",
       " 'McCaig2008',\n",
       " 'Morgan2016',\n",
       " 'Otero2011',\n",
       " 'Stevens2018',\n",
       " 'Tejada2014',\n",
       " 'Tejada2015',\n",
       " 'Le-Kim2016',\n",
       " 'Viana2014',\n",
       " 'Vincenot2011',\n",
       " 'Wasik2014']"
      ]
     },
     "execution_count": 12,
     "metadata": {},
     "output_type": "execute_result"
    }
   ],
   "source": [
    "x.select_all()\n",
    "x.Selected"
   ]
  }
 ],
 "metadata": {
  "kernelspec": {
   "display_name": "Python 3",
   "language": "python",
   "name": "python3"
  },
  "language_info": {
   "codemirror_mode": {
    "name": "ipython",
    "version": 3
   },
   "file_extension": ".py",
   "mimetype": "text/x-python",
   "name": "python",
   "nbconvert_exporter": "python",
   "pygments_lexer": "ipython3",
   "version": "3.6.5"
  }
 },
 "nbformat": 4,
 "nbformat_minor": 2
}
